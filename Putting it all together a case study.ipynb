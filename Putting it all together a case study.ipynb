{
 "cells": [
  {
   "cell_type": "markdown",
   "metadata": {},
   "source": [
    "# Putting it all together: a case study\n",
    "\n",
    "Every year for the past 40-plus years, Peter and Rosemary Grant have gone to the Galápagos island of Daphne Major and collected data on Darwin's finches. Using your skills in statistical inference, you will spend this chapter with their data, and witness first hand, through data, evolution in action. It's an exhilarating way to end the course!"
   ]
  },
  {
   "cell_type": "markdown",
   "metadata": {},
   "source": [
    "## EDA of beak depths of Darwin's finches\n",
    "\n",
    "For your first foray into the Darwin finch data, you will study how the beak depth (the distance, top to bottom, of a closed beak) of the finch species Geospiza scandens has changed over time. The Grants have noticed some changes of beak geometry depending on the types of seeds available on the island, and they also noticed that there was some interbreeding with another major species on Daphne Major, Geospiza fortis. These effects can lead to changes in the species over time.\n",
    "\n",
    "In the next few problems, you will look at the beak depth of G. scandens on Daphne Major in 1975 and in 2012. To start with, let's plot all of the beak depth measurements in 1975 and 2012 in a bee swarm plot.\n",
    "\n",
    "The data are stored in a pandas DataFrame called df with columns 'year' and 'beak_depth'. The units of beak depth are millimeters (mm)."
   ]
  },
  {
   "cell_type": "code",
   "execution_count": null,
   "metadata": {},
   "outputs": [],
   "source": [
    "Create the beeswarm plot.\n",
    "\n",
    "Label the axes.\n",
    "\n",
    "Show the plot."
   ]
  },
  {
   "cell_type": "code",
   "execution_count": 2,
   "metadata": {},
   "outputs": [
    {
     "name": "stdout",
     "output_type": "stream",
     "text": [
      "select only scandens in f1975 :\n",
      "       band   species  blength  bdepth  year\n",
      "316    302  scandens    13.90    8.40  1975\n",
      "317    304  scandens    14.00    8.80  1975\n",
      "318    306  scandens    12.90    8.40  1975\n",
      "319    310  scandens    13.50    8.00  1975\n",
      "320    317  scandens    12.90    7.90  1975\n",
      "..     ...       ...      ...     ...   ...\n",
      "398  20225  scandens    14.55    9.45  1975\n",
      "399  20252  scandens    14.05    9.05  1975\n",
      "400  20255  scandens    14.45    8.75  1975\n",
      "401  20266  scandens    15.05    9.45  1975\n",
      "402  20279  scandens    13.25    8.35  1975\n",
      "\n",
      "[87 rows x 5 columns]\n",
      "(87, 5)\n",
      "select only scandens in f2012 :\n",
      "       band   species  blength  bdepth  year\n",
      "121  19026  scandens     14.3     9.4  2012\n",
      "122  19028  scandens     12.5     8.9  2012\n",
      "123  19029  scandens     13.7     9.5  2012\n",
      "124  19094  scandens     13.8    11.0  2012\n",
      "125  19122  scandens     12.0     8.7  2012\n",
      "..     ...       ...      ...     ...   ...\n",
      "243  21295  scandens     14.2     9.3  2012\n",
      "244  21297  scandens     13.0     9.8  2012\n",
      "245  21340  scandens     14.6     8.9  2012\n",
      "246  21342  scandens     13.1     9.8  2012\n",
      "247  21347  scandens     15.2     9.1  2012\n",
      "\n",
      "[127 rows x 5 columns]\n",
      "(127, 5)\n",
      "f1975 concatenated with f2012 :\n",
      "       band   species  blength  bdepth  year\n",
      "316    302  scandens     13.9     8.4  1975\n",
      "317    304  scandens     14.0     8.8  1975\n",
      "318    306  scandens     12.9     8.4  1975\n",
      "319    310  scandens     13.5     8.0  1975\n",
      "320    317  scandens     12.9     7.9  1975\n",
      "..     ...       ...      ...     ...   ...\n",
      "243  21295  scandens     14.2     9.3  2012\n",
      "244  21297  scandens     13.0     9.8  2012\n",
      "245  21340  scandens     14.6     8.9  2012\n",
      "246  21342  scandens     13.1     9.8  2012\n",
      "247  21347  scandens     15.2     9.1  2012\n",
      "\n",
      "[214 rows x 5 columns]\n"
     ]
    },
    {
     "data": {
      "text/plain": [
       "<Figure size 640x480 with 1 Axes>"
      ]
     },
     "metadata": {},
     "output_type": "display_data"
    }
   ],
   "source": [
    "import seaborn as sns\n",
    "import matplotlib.pyplot as plt\n",
    "import pandas as pd\n",
    "import numpy as np\n",
    "\n",
    "# load data from csv to DataFrame and concatenate to be df.\n",
    "f1975 = pd.read_csv(r\"C:\\Users\\Ttaksinavongskul\\Documents\\DataScienceFolder\\datacamp\\finch_beaks_1975.csv\")# index_col= False)\n",
    "f2012 = pd.read_csv(r\"C:\\Users\\Ttaksinavongskul\\Documents\\DataScienceFolder\\datacamp\\finch_beaks_2012.csv\")\n",
    "\n",
    "# rename columns name\n",
    "f1975.rename(columns={\"Beak length, mm\": \"blength\", \"Beak depth, mm\": \"bdepth\" }, inplace= True)\n",
    "\n",
    "# add columns year\n",
    "f1975['year']= 1975\n",
    "f2012['year']= 2012\n",
    "\n",
    "# select only species Geospiza scandens    #df[df['Population']>1200000000] # use \\n for new line print\n",
    "f1975 = f1975[f1975['species'] == 'scandens']\n",
    "\n",
    "print('select only scandens in f1975 :\\n', f1975)\n",
    "print(f1975.shape)\n",
    "\n",
    "f2012 = f2012[f2012['species'] == 'scandens']\n",
    "print('select only scandens in f2012 :\\n', f2012)\n",
    "print(f2012.shape)\n",
    "\n",
    "\n",
    "# cancat two year together\n",
    "df = pd.concat([f1975,f2012])\n",
    "print('f1975 concatenated with f2012 :\\n', df)\n",
    "\n",
    "#df = pd.concat([f1975, f2012])\n",
    "#print('head(5) =', df.head(5))\n",
    "#print('tail(5) =', df.tail(5))\n",
    "#print(df)\n",
    "\n",
    "# Create bee swarm plot\n",
    "_ = sns.swarmplot(x='year', y='bdepth', data=df)\n",
    "\n",
    "# Label the axes\n",
    "_ = plt.xlabel('year')\n",
    "_ = plt.ylabel('beak depth (mm)')\n",
    "\n",
    "# Show the plot\n",
    "plt.show()"
   ]
  },
  {
   "cell_type": "markdown",
   "metadata": {},
   "source": [
    "It is kind of hard to see if there is a clear difference between the 1975 and 2012 data set. Eyeballing it, it appears as though the mean of the 2012 data set might be slightly higher, and it might have a bigger variance"
   ]
  },
  {
   "cell_type": "markdown",
   "metadata": {},
   "source": [
    "## plot ecdf()"
   ]
  },
  {
   "cell_type": "code",
   "execution_count": 3,
   "metadata": {},
   "outputs": [
    {
     "name": "stdout",
     "output_type": "stream",
     "text": [
      "316    8.40\n",
      "317    8.80\n",
      "318    8.40\n",
      "319    8.00\n",
      "320    7.90\n",
      "       ... \n",
      "398    9.45\n",
      "399    9.05\n",
      "400    8.75\n",
      "401    9.45\n",
      "402    8.35\n",
      "Name: bdepth, Length: 87, dtype: float64\n",
      "316    True\n",
      "317    True\n",
      "318    True\n",
      "319    True\n",
      "320    True\n",
      "       ... \n",
      "398    True\n",
      "399    True\n",
      "400    True\n",
      "401    True\n",
      "402    True\n",
      "Name: bdepth, Length: 87, dtype: bool\n",
      "<class 'pandas.core.series.Series'>\n"
     ]
    },
    {
     "data": {
      "image/png": "[encoded data removed]",
      "text/plain": [
       "<Figure size 432x288 with 1 Axes>"
      ]
     },
     "metadata": {
      "needs_background": "light"
     },
     "output_type": "display_data"
    }
   ],
   "source": [
    "import numpy as np\n",
    "\n",
    "# define ecdf() function\n",
    "def ecdf(data):\n",
    "    \"\"\"Compute ECDF for a one-dimensional array of measurements.\"\"\"\n",
    "    # Number of data points: n\n",
    "    n = len(data)\n",
    "\n",
    "    # x-data for the ECDF: x\n",
    "    x = np.sort(data)\n",
    "\n",
    "    # y-data for the ECDF: y\n",
    "    y = np.arange(1, n+1) / n\n",
    "    \n",
    "    return x, y\n",
    "\n",
    "#use f1975 and f2012 that concatenated to df and use as array on ecdf\n",
    "df_1975 = df[df['year'] == 1975] \n",
    "bd_1975 = df_1975['bdepth']\n",
    "print(bd_1975)\n",
    "print((bd_1975) == (df[df['year'] == 1975]['bdepth']))\n",
    "\n",
    "bd_2012 = df[df['year'] == 2012]['bdepth']\n",
    " \n",
    "print(type(bd_2012))\n",
    "\n",
    "\n",
    "# Compute ECDFs\n",
    "x_1975, y_1975 = ecdf(bd_1975)\n",
    "x_2012, y_2012 = ecdf(bd_2012)\n",
    "\n",
    "# Plot the ECDFs\n",
    "_ = plt.plot(x_1975, y_1975, marker='.', linestyle='none')\n",
    "_ = plt.plot(x_2012, y_2012, marker='.', linestyle='none')\n",
    "\n",
    "# Set margins #is the value between y-axis \n",
    "_ = plt.margins(0.02)\n",
    "\n",
    "# Add axis labels and legend\n",
    "_ = plt.xlabel('beak depth (mm)')\n",
    "_ = plt.ylabel('ECDF')\n",
    "_ = plt.legend(('1975', '2012'), loc='lower right')\n",
    "\n",
    "# Show the plot\n",
    "plt.show()"
   ]
  },
  {
   "cell_type": "markdown",
   "metadata": {},
   "source": [
    "The differences are much clearer in the ECDF. The mean is larger in the 2012 data, and the variance does appear larger as well."
   ]
  },
  {
   "cell_type": "code",
   "execution_count": null,
   "metadata": {},
   "outputs": [],
   "source": [
    "#note on info from numpyarraydef bootstrap_replicate_1d(data, func):\n",
    "\n",
    "\n",
    "In [24]: draw_bs_reps(bd_1975, np.mean, size= 10000).size\n",
    "Out[24]: 10000\n",
    "\n",
    "In [25]: draw_bs_reps(bd_1975, np.mean, size= 10000).ndim\n",
    "Out[25]: 1\n",
    "\n",
    "In [26]: draw_bs_reps(bd_1975, np.mean, size= 10000).shape\n",
    "Out[26]: (10000,)\n",
    "\n",
    "In [27]: len(draw_bs_reps(bd_1975, np.mean, size= 10000))\n",
    "Out[27]: 10000\n",
    "    \n",
    "    \n",
    "def bootstrap_replicate_1d(data, func):\n",
    "#Generate bootstrap replicate of 1D data.\"\"\"\n",
    "    bs_sample = np.random.choice(data, len(data))\n",
    "    return func(bs_sample)\n",
    "\n",
    "\n",
    "def draw_bs_reps(data, func, size=1):\n",
    "    #Draw bootstrap replicates.\"\"\"\n",
    "\n",
    "    # Initialize array of replicates: bs_replicates\n",
    "    bs_replicates = np.empty(size)\n",
    "\n",
    "    # Generate replicates\n",
    "    for i in range(size):\n",
    "        bs_replicates[i] = bootstrap_replicate_1d(data, func)\n",
    "\n",
    "    return bs_replicates\n",
    "# Draw bootstrap replicates of the mean no-hitter time (equal to tau): bs_replicates\n",
    "bs_replicates = draw_bs_reps(nohitter_times, np.mean, size=10000)\n",
    "\n",
    "# Compute the 95% confidence interval: conf_int\n",
    "conf_int = np.percentile(bs_replicates, [2.5, 97.5])\n",
    "\n",
    "# Print the confidence interval\n",
    "print('95% confidence interval =', conf_int, 'games')\n",
    "\n",
    "# Plot the histogram of the replicates\n",
    "_ = plt.hist(bs_replicates, bins=50, density=True)\n",
    "_ = plt.xlabel(r'$\\tau$ (games)')\n",
    "_ = plt.ylabel('PDF')\n",
    "\n",
    "# Show the plot\n",
    "plt.show()"
   ]
  },
  {
   "cell_type": "code",
   "execution_count": null,
   "metadata": {},
   "outputs": [],
   "source": []
  },
  {
   "cell_type": "markdown",
   "metadata": {},
   "source": [
    "## Parameter estimates of beak depths\n",
    "\n",
    "Estimate the difference of the mean beak depth of the G. scandens samples from 1975 and 2012 and report a 95% confidence interval.\n",
    "\n",
    "Since in this exercise you will use the draw_bs_reps() function you wrote in chapter 2, it may be helpful to refer back to it."
   ]
  },
  {
   "cell_type": "code",
   "execution_count": 28,
   "metadata": {},
   "outputs": [
    {
     "name": "stdout",
     "output_type": "stream",
     "text": [
      "difference of means = 0.2262204724409429 mm\n",
      "95% confidence interval = [0.05786413 0.39174794] mm\n"
     ]
    }
   ],
   "source": [
    "import numpy as np\n",
    "\n",
    "def bootstrap_replicate_1d(data, func):\n",
    "#Generate bootstrap replicate of 1D data.\"\"\"\n",
    "    bs_sample = np.random.choice(data, len(data))\n",
    "    return func(bs_sample)\n",
    "\n",
    "def draw_bs_reps(data, func, size=1):\n",
    "    #Draw bootstrap replicates.\"\"\"\n",
    "\n",
    "    # Initialize array of replicates: bs_replicates\n",
    "    bs_replicates = np.empty(size)\n",
    "\n",
    "    # Generate replicates\n",
    "    for i in range(size):\n",
    "        bs_replicates[i] = bootstrap_replicate_1d(data, func)\n",
    "\n",
    "    return bs_replicates\n",
    "\n",
    "# Compute the difference of the sample means: mean_diff\n",
    "mean_diff = np.mean(bd_2012) - np.mean(bd_1975)\n",
    "\n",
    "# Get bootstrap replicates of means (will got mean of replicates 10000 ea)\n",
    "bs_replicates_1975 = draw_bs_reps(bd_1975, np.mean, size= 10000)\n",
    "bs_replicates_2012 = draw_bs_reps(bd_2012, np.mean, size= 10000)\n",
    "\n",
    "# Compute samples of difference of means: bs_diff_replicates\n",
    "bs_diff_replicates = bs_replicates_2012 - bs_replicates_1975\n",
    "\n",
    "# Compute 95% confidence interval: conf_int\n",
    "conf_int = np.percentile(bs_diff_replicates, [2.5, 97.5])\n",
    "\n",
    "# Print the results\n",
    "print('difference of means =', mean_diff, 'mm')\n",
    "print('95% confidence interval =', conf_int, 'mm')"
   ]
  },
  {
   "cell_type": "markdown",
   "metadata": {},
   "source": []
  },
  {
   "cell_type": "markdown",
   "metadata": {},
   "source": [
    "## Hypothesis test: Are beaks deeper in 2012?\n",
    "\n",
    "Your plot of the ECDF and determination of the confidence interval make it pretty clear that the beaks of G. scandens on Daphne Major have gotten deeper. But is it possible that this effect is just due to random chance? In other words, what is the probability that we would get the observed difference in mean beak depth if the means were the same?\n",
    "\n",
    "Be careful! The hypothesis we are testing is not that the beak depths come from the same distribution. For that we could use a permutation test. The hypothesis is that the means are equal. To perform this hypothesis test, we need to shift the two data sets so that they have the same mean and then use bootstrap sampling to compute the difference of means."
   ]
  },
  {
   "cell_type": "code",
   "execution_count": null,
   "metadata": {},
   "outputs": [],
   "source": []
  },
  {
   "cell_type": "code",
   "execution_count": 40,
   "metadata": {},
   "outputs": [
    {
     "name": "stdout",
     "output_type": "stream",
     "text": [
      "mean_diff :0.2262204724409429\n",
      "p = 0.0032\n",
      "p = 0.003200\n",
      "0.003200\n",
      "0.0032\n"
     ]
    }
   ],
   "source": [
    "\n",
    "import numpy as np\n",
    "\n",
    "\n",
    "# Compute mean of combined data set: combined_mean\n",
    "combined_mean = np.mean(np.concatenate((bd_1975, bd_2012)))\n",
    "\n",
    "#mean_diff\n",
    "mean_diff = np.mean(bd_2012) - np.mean(bd_1975)\n",
    "print('mean_diff :',end=\"\")\n",
    "print(mean_diff)\n",
    "\n",
    "# Shift the samples\n",
    "bd_1975_shifted = bd_1975 - np.mean(bd_1975) + combined_mean\n",
    "bd_2012_shifted = bd_2012 - np.mean(bd_2012) + combined_mean\n",
    "\n",
    "# Get bootstrap replicates of shifted data sets\n",
    "bs_replicates_1975 = draw_bs_reps(bd_1975_shifted, np.mean, size=10000)\n",
    "bs_replicates_2012 = draw_bs_reps(bd_2012_shifted, np.mean, size=10000)\n",
    "\n",
    "# Compute replicates of difference of means: bs_diff_replicates\n",
    "bs_diff_replicates = bs_replicates_2012 - bs_replicates_1975\n",
    "\n",
    "# Compute the p-value\n",
    "p = np.sum(bs_diff_replicates >= mean_diff) / len(bs_diff_replicates)\n",
    "\n",
    "# Print p-value\n",
    "print('p =', p)\n",
    "print('p =', ('%.6f'%p))\n",
    "print(\"{0:.6f}\".format(p))\n",
    "print(round(p,6))"
   ]
  },
  {
   "cell_type": "markdown",
   "metadata": {},
   "source": [
    "1. Using “%” :- “%” operator is used to format as well as set precision in python. This is similar to “printf” statement in C programming.\n",
    "\n",
    "2. Using format() :- This is yet another way to format the string for setting precision.\n",
    "\n",
    "3. Using round(x,n) :- This function takes 2 arguments, number and the number till which we want decimal part rounded."
   ]
  },
  {
   "cell_type": "code",
   "execution_count": 31,
   "metadata": {},
   "outputs": [
    {
     "name": "stdout",
     "output_type": "stream",
     "text": [
      "The value of number till 2 decimal place(using %) is : 3.45\n",
      "The value of number till 2 decimal place(using format()) is : 3.45\n",
      "The value of number till 2 decimal place(using round()) is : 3.45\n"
     ]
    }
   ],
   "source": [
    "# Python code to demonstrate precision \n",
    "# and round() \n",
    "  \n",
    "# initializing value \n",
    "a = 3.4536\n",
    "# using \"%\" to print value till 2 decimal places  \n",
    "\n",
    "print (\"The value of number till 2 decimal place(using %) is : \",end=\"\") \n",
    "print ('%.2f'%a) \n",
    "\n",
    "# using format() to print value till 2 decimal places  \n",
    "print (\"The value of number till 2 decimal place(using format()) is : \",end=\"\") \n",
    "print (\"{0:.2f}\".format(a)) \n",
    "\n",
    "# using round() to print value till 2 decimal places  \n",
    "print (\"The value of number till 2 decimal place(using round()) is : \",end=\"\") \n",
    "print (round(a,2)) "
   ]
  },
  {
   "cell_type": "markdown",
   "metadata": {},
   "source": [
    "We get a p-value of 0.0034, which suggests that there is a statistically significant difference. But remember: it is very important to know how different they are! In the previous exercise, you got a difference of 0.2 mm between the means. You should combine this with the statistical significance. Changing by 0.2 mm in 37 years is substantial by evolutionary standards. If it kept changing at that rate, the beak depth would double in only 400 years"
   ]
  },
  {
   "cell_type": "markdown",
   "metadata": {},
   "source": [
    "# variation of beak shapes\n",
    "\n",
    "## EDA of beak length and depth\n",
    "\n",
    "The beak length data are stored as bl_1975 and bl_2012, again with units of millimeters (mm). You still have the beak depth data stored in bd_1975 and bd_2012. Make scatter plots of beak depth (y-axis) versus beak length (x-axis) for the 1975 and 2012 specimens."
   ]
  },
  {
   "cell_type": "code",
   "execution_count": 5,
   "metadata": {},
   "outputs": [
    {
     "data": {
      "image/png": "[encoded data removed]",
      "text/plain": [
       "<Figure size 432x288 with 1 Axes>"
      ]
     },
     "metadata": {
      "needs_background": "light"
     },
     "output_type": "display_data"
    }
   ],
   "source": [
    "# this have to use linreg ; A function to do pairs bootstrap\n",
    "\n",
    "\n",
    "import numpy as np\n",
    "import matplotlib.pyplot as plt\n",
    "\n",
    "\n",
    "def draw_bs_pairs_linreg(x, y, size=1):\n",
    "    \"\"\"Perform pairs bootstrap for linear regression.\"\"\"\n",
    "\n",
    "    # Set up array of indices to sample from: inds\n",
    "    inds = np.arange(len(x))\n",
    "\n",
    "    # Initialize replicates: bs_slope_reps, bs_intercept_reps\n",
    "    bs_slope_reps = np.empty(size)\n",
    "    bs_intercept_reps = np.empty(size)\n",
    "\n",
    "    # Generate replicates\n",
    "    for i in range(size):\n",
    "        bs_inds = np.random.choice(inds, size=len(inds))\n",
    "        bs_x, bs_y = x[bs_inds], y[bs_inds]\n",
    "        bs_slope_reps[i], bs_intercept_reps[i] = np.polyfit(bs_x, bs_y, 1)\n",
    "\n",
    "    return bs_slope_reps, bs_intercept_reps\n",
    "\n",
    "\n",
    "#load data from array.tolist() and change to array\n",
    "\n",
    "\n",
    "a = [13.9, 14.0, 12.9, 13.5, 12.9, 14.6, 13.0, 14.2, 14.0, 14.2, 13.1, 15.1, 13.5, 14.4, 14.9, 12.9, 13.0, 14.9, 14.0, 13.8, 13.0, 14.75, 13.7, 13.8, 14.0, 14.6, 15.2, 13.5, 15.1, 15.0, 12.8, 14.9, 15.3, 13.4, 14.2, 15.1, 15.1, 14.0, 13.6, 14.0, 14.0, 13.9, 14.0, 14.9, 15.6, 13.8, 14.4, 12.8, 14.2, 13.4, 14.0, 14.8, 14.2, 13.5, 13.4, 14.6, 13.5, 13.7, 13.9, 13.1, 13.4, 13.8, 13.6, 14.0, 13.5, 12.8, 14.0, 13.4, 14.9, 15.54, 14.63, 14.73, 15.73, 14.83, 15.94, 15.14, 14.23, 14.15, 14.35, 14.95, 13.95, 14.05, 14.55, 14.05, 14.45, 15.05, 13.25]\n",
    "b = [14.3, 12.5, 13.7, 13.8, 12.0, 13.0, 13.0, 13.6, 12.8, 13.6, 12.95, 13.1, 13.4, 13.9, 12.3, 14.0, 12.5, 12.3, 13.9, 13.1, 12.5, 13.9, 13.7, 12.0, 14.4, 13.5, 13.8, 13.0, 14.9, 12.5, 12.3, 12.8, 13.4, 13.8, 13.5, 13.5, 13.4, 12.3, 14.35, 13.2, 13.8, 14.6, 14.3, 13.8, 13.6, 12.9, 13.0, 13.5, 13.2, 13.7, 13.1, 13.2, 12.6, 13.0, 13.9, 13.2, 15.0, 13.37, 11.4, 13.8, 13.0, 13.0, 13.1, 12.8, 13.3, 13.5, 12.4, 13.1, 14.0, 13.5, 11.8, 13.7, 13.2, 12.2, 13.0, 13.1, 14.7, 13.7, 13.5, 13.3, 14.1, 12.5, 13.7, 14.6, 14.1, 12.9, 13.9, 13.4, 13.0, 12.7, 12.1, 14.0, 14.9, 13.9, 12.9, 14.6, 14.0, 13.0, 12.7, 14.0, 14.1, 14.1, 13.0, 13.5, 13.4, 13.9, 13.1, 12.9, 14.0, 14.0, 14.1, 14.7, 13.4, 13.8, 13.4, 13.8, 12.4, 14.1, 12.9, 13.9, 14.3, 13.2, 14.2, 13.0, 14.6, 13.1, 15.2]\n",
    "c = [8.4, 8.8, 8.4, 8.0, 7.9, 8.9, 8.6, 8.5, 8.9, 9.1, 8.6, 9.8, 8.2, 9.0, 9.7, 8.6, 8.2, 9.0, 8.4, 8.6, 8.9, 9.1, 8.3, 8.7, 9.6, 8.5, 9.1, 9.0, 9.2, 9.9, 8.6, 9.2, 8.4, 8.9, 8.5, 10.4, 9.6, 9.1, 9.3, 9.3, 8.8, 8.3, 8.8, 9.1, 10.1, 8.9, 9.2, 8.5, 10.2, 10.1, 9.2, 9.7, 9.1, 8.5, 8.2, 9.0, 9.3, 8.0, 9.1, 8.1, 8.3, 8.7, 8.8, 8.6, 8.7, 8.0, 8.8, 9.0, 9.1, 9.74, 9.1, 9.8, 10.4, 8.3, 9.44, 9.04, 9.0, 9.05, 9.65, 9.45, 8.65, 9.45, 9.45, 9.05, 8.75, 9.45, 8.35]\n",
    "d = [9.4, 8.9, 9.5, 11.0, 8.7, 8.4, 9.1, 8.7, 10.2, 9.6, 8.85, 8.8, 9.5, 9.2, 9.0, 9.8, 9.3, 9.0, 10.2, 7.7, 9.0, 9.5, 9.4, 8.0, 8.9, 9.4, 9.5, 8.0, 10.0, 8.95, 8.2, 8.8, 9.2, 9.4, 9.5, 8.1, 9.5, 8.4, 9.3, 9.3, 9.6, 9.2, 10.0, 8.9, 10.5, 8.9, 8.6, 8.8, 9.15, 9.5, 9.1, 10.2, 8.4, 10.0, 10.2, 9.3, 10.8, 8.3, 7.8, 9.8, 7.9, 8.9, 7.7, 8.9, 9.4, 9.4, 8.5, 8.5, 9.6, 10.2, 8.8, 9.5, 9.3, 9.0, 9.2, 8.7, 9.0, 9.1, 8.7, 9.4, 9.8, 8.6, 10.6, 9.0, 9.5, 8.1, 9.3, 9.6, 8.5, 8.2, 8.0, 9.5, 9.7, 9.9, 9.1, 9.5, 9.8, 8.4, 8.3, 9.6, 9.4, 10.0, 8.9, 9.1, 9.8, 9.3, 9.9, 8.9, 8.5, 10.6, 9.3, 8.9, 8.9, 9.7, 9.8, 10.5, 8.4, 10.0, 9.0, 8.7, 8.8, 8.4, 9.3, 9.8, 8.9, 9.8, 9.1]\n",
    "\n",
    "bl_1975 = np.array(a)\n",
    "bl_2012 = np.array(b)\n",
    "bd_1975 = np.array(c)\n",
    "bd_2012 = np.array(d)\n",
    "\n",
    "# Make scatter plot of 1975 data\n",
    "_ = plt.plot(bl_1975, bd_1975, marker='.',\n",
    "             linestyle='None', color= 'blue', alpha=0.5)\n",
    "\n",
    "# Make scatter plot of 2012 data\n",
    "_ = plt.plot(bl_2012, bd_2012, marker='.',\n",
    "            linestyle='None', color='red', alpha=0.5)\n",
    "\n",
    "# Label axes and make legend\n",
    "_ = plt.xlabel('beak length (mm)')\n",
    "_ = plt.ylabel('beak depth (mm)')\n",
    "_ = plt.legend(('1975', '2012'), loc='upper left')\n",
    "\n",
    "# Show the plot\n",
    "plt.show()\n"
   ]
  },
  {
   "cell_type": "markdown",
   "metadata": {},
   "source": [
    "In looking at the plot, we see that beaks got deeper (the red points are higher up in the y-direction), but not really longer. If anything, they got a bit shorter, since the red dots are to the left of the blue dots. So, it does not look like the beaks kept the same shape; they became shorter and deeper."
   ]
  },
  {
   "cell_type": "markdown",
   "metadata": {},
   "source": []
  },
  {
   "cell_type": "markdown",
   "metadata": {},
   "source": [
    "## Linear regressions\n",
    "Perform a linear regression for both the 1975 and 2012 data. Then, perform pairs bootstrap estimates for the regression parameters. Report 95% confidence intervals on the slope and intercept of the regression line.\n",
    "\n",
    "You will use the draw_bs_pairs_linreg() function you wrote back in chapter 2.\n",
    "\n",
    "As a reminder, its call signature is draw_bs_pairs_linreg(x, y, size=1), and it returns bs_slope_reps and bs_intercept_reps. The beak length data are stored as bl_1975 and bl_2012, and the beak depth data is stored in bd_1975 and bd_2012."
   ]
  },
  {
   "cell_type": "markdown",
   "metadata": {},
   "source": [
    "note: np.polyfit(x,y, 1)   1 is how fit the line in graph"
   ]
  },
  {
   "cell_type": "code",
   "execution_count": 6,
   "metadata": {},
   "outputs": [
    {
     "name": "stdout",
     "output_type": "stream",
     "text": [
      "1975: slope = 0.4652051691605937 conf int = [0.33974259 0.59081516]\n",
      "1975: intercept = 2.3908752365842263 conf int = [0.65543829 4.14105174]\n",
      "2012: slope = 0.462630358835313 conf int = [0.33922121 0.60332635]\n",
      "2012: intercept = 2.9772474982360198 conf int = [1.15189172 4.63939884]\n"
     ]
    }
   ],
   "source": [
    "# Compute the linear regressions\n",
    "slope_1975, intercept_1975 = np.polyfit(bl_1975, bd_1975, 1)\n",
    "slope_2012, intercept_2012 = np.polyfit(bl_2012, bd_2012, 1)\n",
    "\n",
    "# Perform pairs bootstrap for the linear regressions\n",
    "bs_slope_reps_1975, bs_intercept_reps_1975 = \\\n",
    "        draw_bs_pairs_linreg(bl_1975, bd_1975, size=1000)\n",
    "bs_slope_reps_2012, bs_intercept_reps_2012 = \\\n",
    "        draw_bs_pairs_linreg(bl_2012, bd_2012, size=1000)\n",
    "\n",
    "# Compute confidence intervals of slopes\n",
    "slope_conf_int_1975 = np.percentile(bs_slope_reps_1975, [2.5, 97.5])\n",
    "slope_conf_int_2012 = np.percentile(bs_slope_reps_2012, [2.5, 97.5])\n",
    "intercept_conf_int_1975 = np.percentile(bs_intercept_reps_1975, [2.5, 97.5])\n",
    "\n",
    "intercept_conf_int_2012 = np.percentile(bs_intercept_reps_2012, [2.5, 97.5])\n",
    "\n",
    "\n",
    "# Print the results\n",
    "print('1975: slope =', slope_1975,\n",
    "      'conf int =', slope_conf_int_1975)\n",
    "print('1975: intercept =', intercept_1975,\n",
    "      'conf int =', intercept_conf_int_1975)\n",
    "print('2012: slope =', slope_2012,\n",
    "      'conf int =', slope_conf_int_2012)\n",
    "print('2012: intercept =', intercept_2012,\n",
    "      'conf int =', intercept_conf_int_2012)"
   ]
  },
  {
   "cell_type": "markdown",
   "metadata": {},
   "source": [
    "It looks like they have the same slope, but different intercepts."
   ]
  },
  {
   "cell_type": "markdown",
   "metadata": {},
   "source": []
  },
  {
   "cell_type": "markdown",
   "metadata": {},
   "source": [
    "## Displaying the linear regression results"
   ]
  },
  {
   "cell_type": "code",
   "execution_count": 8,
   "metadata": {},
   "outputs": [
    {
     "data": {
      "image/png": "[encoded data removed]",
      "text/plain": [
       "<Figure size 432x288 with 1 Axes>"
      ]
     },
     "metadata": {
      "needs_background": "light"
     },
     "output_type": "display_data"
    }
   ],
   "source": [
    "# Make scatter plot of 1975 data\n",
    "_ = plt.plot(bl_1975, bd_1975, marker='.',\n",
    "             linestyle='none', color='blue', alpha=0.5)\n",
    "\n",
    "# Make scatter plot of 2012 data\n",
    "_ = plt.plot(bl_2012, bd_2012, marker='.',\n",
    "             linestyle='none', color='red', alpha=0.5)\n",
    "\n",
    "# Label axes and make legend\n",
    "_ = plt.xlabel('beak length (mm)')\n",
    "_ = plt.ylabel('beak depth (mm)')\n",
    "_ = plt.legend(('1975', '2012'), loc='upper left')\n",
    "\n",
    "# Generate x-values for bootstrap lines: x\n",
    "x = np.array([10, 17])\n",
    "\n",
    "# Plot the bootstrap lines\n",
    "for i in range(100):\n",
    "    plt.plot(x,bs_slope_reps_1975[i] * x + bs_intercept_reps_1975[i] ,\n",
    "             linewidth=0.5, alpha=0.2, color='blue')\n",
    "    plt.plot(x, bs_slope_reps_2012[i] * x + bs_intercept_reps_2012[i],\n",
    "             linewidth=0.5, alpha=0.2, color='red')\n",
    "\n",
    "# Draw the plot again\n",
    "plt.show()"
   ]
  },
  {
   "cell_type": "markdown",
   "metadata": {},
   "source": []
  },
  {
   "cell_type": "markdown",
   "metadata": {},
   "source": [
    "## Beak length to depth ratio\n",
    "\n",
    "The linear regressions showed interesting information about the beak geometry. The slope was the same in 1975 and 2012, suggesting that for every millimeter gained in beak length, the birds gained about half a millimeter in depth in both years. However, if we are interested in the shape of the beak, we want to compare the ratio of beak length to beak depth. Let's make that comparison.\n",
    "\n",
    "Remember, the data are stored in bd_1975, bd_2012, bl_1975, and bl_2012."
   ]
  },
  {
   "cell_type": "markdown",
   "metadata": {},
   "source": [
    "## draw_bs_reps(mean_ratio_1975, np.mean, size=10000),   when to use draw_perm_reps ??????\n",
    "\n"
   ]
  },
  {
   "cell_type": "code",
   "execution_count": 10,
   "metadata": {},
   "outputs": [
    {
     "name": "stdout",
     "output_type": "stream",
     "text": [
      "1975: mean ratio = 1.5788823771858533 conf int = [1.55720328 1.60065209]\n",
      "2012: mean ratio = 1.4658342276847767 conf int = [1.44457983 1.48813654]\n"
     ]
    }
   ],
   "source": [
    "def bootstrap_replicate_1d(data, func):\n",
    "#Generate bootstrap replicate of 1D data.\"\"\"\n",
    "    bs_sample = np.random.choice(data, len(data))\n",
    "    return func(bs_sample)\n",
    "\n",
    "\n",
    "def draw_bs_reps(data, func, size=1):\n",
    "    #Draw bootstrap replicates.\"\"\"\n",
    "\n",
    "    # Initialize array of replicates: bs_replicates\n",
    "    bs_replicates = np.empty(size)\n",
    "\n",
    "    # Generate replicates\n",
    "    for i in range(size):\n",
    "        bs_replicates[i] = bootstrap_replicate_1d(data, func)\n",
    "\n",
    "    return bs_replicates\n",
    "\n",
    "\n",
    "# Compute length-to-depth ratios\n",
    "ratio_1975 = bl_1975 / bd_1975\n",
    "ratio_2012 = bl_2012 / bd_2012\n",
    "\n",
    "# Compute means\n",
    "mean_ratio_1975 = np.mean(ratio_1975)\n",
    "mean_ratio_2012 = np.mean(ratio_2012)\n",
    "\n",
    "# Generate bootstrap replicates of the means\n",
    "bs_replicates_1975 = draw_bs_reps(ratio_1975, np.mean, size=10000)\n",
    "bs_replicates_2012 = draw_bs_reps(ratio_2012, np.mean, size=10000)\n",
    "\n",
    "\n",
    "# Compute the 99% confidence intervals\n",
    "conf_int_1975 = np.percentile(bs_replicates_1975, [0.5, 99.5])\n",
    "conf_int_2012 = np.percentile(bs_replicates_2012, [0.5, 99.5])\n",
    "\n",
    "# Print the results\n",
    "print('1975: mean ratio =', mean_ratio_1975,\n",
    "      'conf int =', conf_int_1975)\n",
    "print('2012: mean ratio =', mean_ratio_2012,\n",
    "      'conf int =', conf_int_2012)\n"
   ]
  },
  {
   "cell_type": "markdown",
   "metadata": {},
   "source": []
  },
  {
   "cell_type": "markdown",
   "metadata": {},
   "source": [
    "## EDA of heritability\n",
    "\n",
    "The array bd_parent_scandens contains the average beak depth (in mm) of two parents of the species G. scandens. The array bd_offspring_scandens contains the average beak depth of the offspring of the respective parents. The arrays bd_parent_fortis and bd_offspring_fortis contain the same information about measurements from G. fortis birds.\n",
    "\n",
    "Make a scatter plot of the average offspring beak depth (y-axis) versus average parental beak depth (x-axis) for both species. Use the alpha=0.5 keyword argument to help you see overlapping points.\n",
    "\n",
    "Generate scatter plots for both species. Display the data for G. fortis in blue and G. scandens in red.\n",
    "Set the axis labels, make a legend, and show the plot."
   ]
  },
  {
   "cell_type": "code",
   "execution_count": null,
   "metadata": {},
   "outputs": [],
   "source": []
  },
  {
   "cell_type": "code",
   "execution_count": 11,
   "metadata": {},
   "outputs": [
    {
     "data": {
      "image/png": "[encoded data removed]",
      "text/plain": [
       "<Figure size 432x288 with 1 Axes>"
      ]
     },
     "metadata": {
      "needs_background": "light"
     },
     "output_type": "display_data"
    }
   ],
   "source": [
    "#load data to notebook by nparray.tolist() then np.array()\n",
    "\n",
    "a = [8.3318, 8.4035, 8.5317, 8.7202, 8.7089, 8.7541, 8.773, 8.8107, 8.7919, 8.8069, 8.6523, 8.6146, 8.6938, 8.7127, 8.7466, 8.7504, 8.7805, 8.7428, 8.7164, 8.8032, 8.8258, 8.856, 8.9012, 8.9125, 8.8635, 8.8258, 8.8522, 8.8974, 8.9427, 8.9879, 8.9615, 8.9238, 8.9351, 9.0143, 9.0558, 9.0596, 8.9917, 8.905, 8.9314, 8.9465, 8.9879, 8.9804, 9.0219, 9.052, 9.0407, 9.0407, 8.9955, 8.9992, 8.9992, 9.0747, 9.0747, 9.5385, 9.4781, 9.4517, 9.3537, 9.2707, 9.1199, 9.1689, 9.1425, 9.135, 9.1011, 9.1727, 9.2217, 9.2255, 9.2821, 9.3235, 9.3198, 9.3198, 9.3198, 9.3273, 9.3725, 9.3989, 9.4253, 9.4593, 9.4442, 9.4291, 9.2632, 9.2293, 9.1878, 9.1425, 9.1275, 9.1802, 9.1765, 9.2481, 9.2481, 9.1991, 9.1689, 9.1765, 9.2406, 9.3198, 9.3235, 9.1991, 9.2971, 9.2443, 9.316, 9.2934, 9.3914, 9.3989, 9.5121, 9.6176, 9.5535, 9.4668, 9.3725, 9.3348, 9.3763, 9.3839, 9.4216, 9.4065, 9.3348, 9.4442, 9.4367, 9.5083, 9.448, 9.4781, 9.595, 9.6101, 9.5686, 9.6365, 9.7119, 9.8213, 9.825, 9.7609, 9.6516, 9.5988, 9.546, 9.6516, 9.7572, 9.8854, 10.0023, 9.3914]\n",
    "b = [8.419, 9.2468, 8.1532, 8.0089, 8.2215, 8.3734, 8.5025, 8.6392, 8.7684, 8.8139, 8.7911, 8.9051, 8.9203, 8.8747, 8.943, 9.0038, 8.981, 9.0949, 9.2696, 9.1633, 9.1785, 9.1937, 9.2772, 9.0722, 8.9658, 8.9658, 8.5025, 8.4949, 8.4949, 8.5633, 8.6013, 8.6468, 8.1532, 8.3734, 8.662, 8.6924, 8.7456, 8.8367, 8.8595, 8.9658, 8.9582, 8.8671, 8.8671, 8.943, 9.0646, 9.1405, 9.2089, 9.2848, 9.3759, 9.4899, 9.4519, 8.1228, 8.2595, 8.3127, 8.4949, 8.6013, 8.4646, 8.5329, 8.7532, 8.8823, 9.0342, 8.6392, 8.6772, 8.6316, 8.7532, 8.8291, 8.8975, 8.9734, 9.0494, 9.1253, 9.1253, 9.1253, 9.1785, 9.2848, 9.4595, 9.3608, 9.2089, 9.2544, 9.3684, 9.3684, 9.2316, 9.1709, 9.2316, 9.0342, 8.8899, 8.8291, 8.981, 8.8975, 10.4089, 10.1886, 9.7633, 9.7329, 9.6114, 9.5051, 9.5127, 9.3684, 9.6266, 9.5354, 10.0215, 10.0215, 9.6266, 9.6038, 9.4063, 9.2316, 9.338, 9.262, 9.262, 9.4063, 9.4367, 9.0342, 8.943, 8.9203, 8.7835, 8.7835, 9.057, 8.9354, 8.8975, 8.8139, 8.8671, 9.0873, 9.2848, 9.2392, 9.2924, 9.4063, 9.3152, 9.4899, 9.5962, 9.6873, 9.5203, 9.6646]\n",
    "c = [10.100000000000001, 9.55, 9.399999999999999, 10.25, 10.125, 9.7, 9.05, 7.4, 9.0, 8.65, 9.625, 9.899999999999999, 9.55, 9.05, 8.35, 10.1, 10.1, 9.899999999999999, 10.225, 10.0, 10.55, 10.45, 9.2, 10.2, 8.95, 10.05, 10.2, 9.5, 9.925, 9.95, 10.05, 8.75, 9.2, 10.15, 9.8, 10.7, 10.5, 9.55, 10.55, 10.475, 8.649999999999999, 10.7, 9.1, 9.4, 10.3, 9.65, 9.5, 9.7, 10.525, 9.95, 10.1, 9.75, 10.05, 9.9, 10.0, 9.1, 9.45, 9.25, 9.5, 10.0, 10.524999999999999, 9.899999999999999, 10.399999999999999, 8.95, 9.4, 10.95, 10.75, 10.100000000000001, 8.05, 9.1, 9.55, 9.05, 10.2, 10.0, 10.55, 10.75, 8.175, 9.7, 8.8, 10.75, 9.3, 9.7, 9.600000000000001, 9.75, 9.600000000000001, 10.45, 11.0, 10.85, 10.149999999999999, 10.350000000000001, 10.4, 9.95, 9.1, 10.1, 9.85, 9.625, 9.475, 9.0, 9.25, 9.100000000000001, 9.25, 9.2, 9.95, 8.65, 9.8, 9.4, 9.0, 8.55, 8.75, 9.65, 8.95, 9.15, 9.85, 10.225, 9.825, 10.0, 9.425, 10.4, 9.875, 8.95, 8.9, 9.350000000000001, 10.425, 10.0, 10.175, 9.875, 9.875, 9.15, 9.45, 9.025, 9.7, 9.7, 10.05, 10.3, 9.6, 10.0, 9.8, 10.05, 8.75, 10.55, 9.7, 10.0, 9.85, 9.8, 9.175, 9.649999999999999, 9.55, 9.9, 11.55, 11.3, 10.4, 10.8, 9.8, 10.45, 10.0, 10.75, 9.350000000000001, 10.75, 9.175, 9.65, 8.8, 10.55, 10.675, 9.95, 9.55, 8.825, 9.7, 9.850000000000001, 9.8, 9.55, 9.274999999999999, 10.325, 9.15, 9.35, 9.149999999999999, 9.65, 10.575, 9.975000000000001, 9.55, 9.2, 9.925, 9.2, 9.3, 8.775, 9.325, 9.175, 9.325, 8.975000000000001, 9.7, 9.5, 10.225000000000001, 10.025, 8.2, 8.2, 9.55, 9.05, 9.600000000000001, 9.600000000000001, 10.15, 9.875, 10.485, 11.485, 10.985, 9.7, 9.65, 9.35, 10.05, 10.100000000000001, 9.9, 8.95, 9.3, 9.95, 9.45, 9.5, 8.45, 8.8, 8.525, 9.375, 10.2, 7.625, 8.375, 9.25, 9.4, 10.55, 8.9, 8.8, 9.0, 8.575, 8.575, 9.600000000000001, 9.375, 9.600000000000001, 9.95, 9.6, 10.2, 9.850000000000001, 9.625, 9.025, 10.375, 10.25, 9.3, 9.5, 9.55, 8.55, 9.05, 9.9, 9.8, 9.75, 10.25, 9.1, 9.65, 10.3, 8.9, 9.95, 9.5, 9.774999999999999, 9.425, 7.75, 7.550000000000001, 9.1, 9.6, 9.575, 8.95, 9.649999999999999, 9.65, 9.65, 9.525, 9.85, 9.05, 9.3, 8.899999999999999, 9.45, 10.0, 9.85, 9.25, 10.1, 9.125, 9.65, 9.100000000000001, 8.05, 7.4, 8.85, 9.075, 9.0, 9.7, 8.7, 9.45, 9.7, 8.35, 8.85, 9.7, 9.45, 10.3, 10.0, 10.45, 9.45, 8.5, 8.3, 10.0, 9.225, 9.75, 9.149999999999999, 9.55, 9.0, 9.274999999999999, 9.35, 8.95, 9.875, 8.45, 8.600000000000001, 9.7, 8.55, 9.05, 9.600000000000001, 8.65, 9.2, 8.95, 9.6, 9.15, 9.399999999999999, 8.95, 9.95, 10.55, 9.7, 8.850000000000001, 8.8, 10.0, 9.05, 8.2, 8.1, 7.25, 8.3, 9.15, 8.600000000000001, 9.5, 8.05, 9.425, 9.3, 9.8, 9.3, 9.85, 9.5, 8.65, 9.825, 9.0, 10.45, 9.1, 9.55, 9.05, 10.0, 9.350000000000001, 8.375, 8.3, 8.8, 10.100000000000001, 9.5, 9.75, 10.100000000000001, 9.575, 9.425, 9.65, 8.725, 9.025, 8.5, 8.95, 9.3, 8.85, 8.95, 9.8, 9.5, 8.65, 9.100000000000001, 9.399999999999999, 8.475, 9.35, 7.95, 9.350000000000001, 8.575, 9.05, 8.175, 9.850000000000001, 7.85, 9.850000000000001, 10.1, 9.350000000000001, 8.850000000000001, 8.75, 9.625, 9.25, 9.55, 10.325, 8.55, 9.675, 9.15, 9.0, 9.649999999999999, 8.6, 8.8, 9.0, 9.95, 8.4, 9.35, 10.3, 9.05, 9.975, 9.975000000000001, 8.65, 8.725000000000001, 8.2, 7.8500000000000005, 8.774999999999999, 8.5, 9.4]\n",
    "d = [10.7, 9.78, 9.48, 9.6, 10.27, 9.5, 9.0, 7.46, 7.65, 8.63, 9.81, 9.4, 9.48, 8.75, 7.6, 10.0, 10.09, 9.74, 9.64, 8.49, 10.15, 10.28, 9.2, 10.01, 9.03, 9.94, 10.5, 9.7, 10.02, 10.04, 9.43, 8.1, 9.5, 9.9, 9.48, 10.18, 10.16, 9.08, 10.39, 9.9, 8.4, 10.6, 8.75, 9.46, 9.6, 9.6, 9.95, 10.05, 10.16, 10.1, 9.83, 9.46, 9.7, 9.82, 10.34, 8.02, 9.65, 9.87, 9.0, 11.14, 9.25, 8.14, 10.23, 8.7, 9.8, 10.54, 11.19, 9.85, 8.1, 9.3, 9.34, 9.19, 9.52, 9.36, 8.8, 8.6, 8.0, 8.5, 8.3, 10.38, 8.54, 8.94, 10.0, 9.76, 9.45, 9.89, 10.9, 9.91, 9.39, 9.86, 9.74, 9.9, 9.09, 9.69, 10.24, 8.9, 9.67, 8.93, 9.3, 8.67, 9.15, 9.23, 9.59, 9.03, 9.58, 8.97, 8.57, 8.47, 8.71, 9.21, 9.13, 8.5, 9.58, 9.21, 9.6, 9.32, 8.7, 10.46, 9.29, 9.24, 9.45, 9.35, 10.19, 9.91, 9.18, 9.89, 9.6, 10.3, 9.45, 8.79, 9.2, 8.8, 9.69, 10.61, 9.6, 9.9, 9.26, 10.2, 8.79, 9.28, 8.83, 9.76, 10.2, 9.43, 9.4, 9.9, 9.5, 8.95, 9.98, 9.72, 9.86, 11.1, 9.14, 10.49, 9.75, 10.35, 9.73, 9.83, 8.69, 9.58, 8.42, 9.25, 10.12, 9.31, 9.99, 8.59, 8.74, 8.79, 9.6, 9.52, 8.93, 10.23, 9.35, 9.35, 9.09, 9.04, 9.75, 10.5, 9.09, 9.05, 9.54, 9.3, 9.06, 8.7, 9.32, 8.4, 8.67, 8.6, 9.53, 9.77, 9.65, 9.43, 8.35, 8.26, 9.5, 8.6, 9.57, 9.14, 10.79, 8.91, 9.93, 10.7, 9.3, 9.93, 9.51, 9.44, 10.05, 10.13, 9.24, 8.21, 8.9, 9.34, 8.77, 9.4, 8.82, 8.83, 8.6, 9.5, 10.2, 8.09, 9.07, 9.29, 9.1, 10.19, 9.25, 8.98, 9.02, 8.6, 8.25, 8.7, 9.9, 9.65, 9.45, 9.38, 10.4, 9.96, 9.46, 8.26, 10.05, 8.92, 9.5, 9.43, 8.97, 8.44, 8.92, 10.3, 8.4, 9.37, 9.91, 10.0, 9.21, 9.95, 8.84, 9.82, 9.5, 10.29, 8.4, 8.31, 9.29, 8.86, 9.4, 9.62, 8.62, 8.3, 9.8, 8.48, 9.61, 9.5, 9.37, 8.74, 9.31, 9.5, 9.49, 9.74, 9.2, 9.24, 9.7, 9.64, 9.2, 7.5, 7.5, 8.7, 8.31, 9.0, 9.74, 9.31, 10.5, 9.3, 8.12, 9.34, 9.72, 9.0, 9.65, 9.9, 10.0, 10.1, 8.0, 9.07, 9.75, 9.33, 8.11, 9.36, 9.74, 9.9, 9.23, 9.7, 8.2, 9.35, 9.49, 9.34, 8.87, 9.03, 9.07, 9.43, 8.2, 9.19, 9.0, 9.2, 9.06, 9.81, 8.89, 9.4, 10.45, 9.64, 9.03, 8.71, 9.91, 8.33, 8.2, 7.83, 7.14, 8.91, 9.18, 8.8, 9.9, 7.73, 9.25, 8.7, 9.5, 9.3, 9.05, 10.18, 8.85, 9.24, 9.15, 9.98, 8.77, 9.8, 8.65, 10.0, 8.81, 8.01, 7.9, 9.41, 10.18, 9.55, 9.08, 8.4, 9.75, 8.9, 9.07, 9.35, 8.9, 8.19, 8.65, 9.19, 8.9, 9.28, 10.58, 9.0, 9.4, 8.91, 9.93, 10.0, 9.37, 7.4, 9.0, 8.8, 9.18, 8.3, 10.08, 7.9, 9.96, 10.4, 9.65, 8.8, 8.65, 9.7, 9.23, 9.43, 9.93, 8.47, 9.55, 9.28, 8.85, 8.9, 8.75, 8.63, 9.0, 9.43, 8.28, 9.23, 10.4, 9.0, 9.8, 9.77, 8.97, 8.37, 7.7, 7.9, 9.5, 8.2, 8.8]\n",
    "\n",
    "\n",
    "bd_parent_scandens = np.array(a)\n",
    "bd_offspring_scandens = np.array(b)\n",
    "bd_parent_fortis = np.array(c)\n",
    "bd_offspring_fortis = np.array(d)\n",
    "\n",
    "\n",
    "# Make scatter plots\n",
    "_ = plt.plot(bd_parent_fortis, bd_offspring_fortis,\n",
    "             marker='.', linestyle='none', color='blue', alpha=0.5)\n",
    "_ = plt.plot(bd_parent_scandens, bd_offspring_scandens,\n",
    "             marker='.', linestyle='none', color='red', alpha=0.5)\n",
    "\n",
    "# Label axes\n",
    "_ = plt.xlabel('parental beak depth (mm)')\n",
    "_ = plt.ylabel('offspring beak depth (mm)')\n",
    "\n",
    "# Add legend\n",
    "_ = plt.legend(('G. fortis', 'G. scandens'), loc='lower right')\n",
    "\n",
    "# Show plot\n",
    "plt.show()\n"
   ]
  },
  {
   "cell_type": "markdown",
   "metadata": {},
   "source": [
    "It appears as though there is a stronger correlation in G. fortis than in G. scandens. This suggests that beak depth is more strongly inherited in G. fortis. We'll quantify this correlation next."
   ]
  },
  {
   "cell_type": "markdown",
   "metadata": {},
   "source": []
  },
  {
   "cell_type": "markdown",
   "metadata": {},
   "source": [
    "## Correlation of offspring and parental data\n",
    "\n",
    "In an effort to quantify the correlation between offspring and parent beak depths, we would like to compute statistics, such as the Pearson correlation coefficient, between parents and offspring. To get confidence intervals on this, we need to do a pairs bootstrap.\n",
    "\n",
    "You have already written a function to do pairs bootstrap to get estimates for parameters derived from linear regression. Your task in this exercise is to make a new function with call signature draw_bs_pairs(x, y, func, size=1) that performs pairs bootstrap and computes a single statistic on pairs samples defined. The statistic of interest is computed by calling func(bs_x, bs_y). In the next exercise, you will use pearson_r for func.\n",
    "\n",
    "\n",
    "\n",
    "Set up an array of indices to sample from. (Remember, when doing pairs bootstrap, we randomly choose indices and use those to get the pairs.)\n",
    "Initialize the array of bootstrap replicates. This should be a one-dimensional array of length size.\n",
    "Write a for loop to draw the samples.\n",
    "Randomly choose indices from the array of indices you previously set up.\n",
    "Extract x values and y values from the input array using the indices you just chose to generate a bootstrap sample.\n",
    "Use func to compute the statistic of interest from the bootstrap samples of x and y and store it in your array of bootstrap replicates.\n",
    "Return the array of bootstrap replicates.\n"
   ]
  },
  {
   "cell_type": "markdown",
   "metadata": {},
   "source": [
    "## Pearson correlation of offspring and parental data\n",
    "\n",
    "The Pearson correlation coefficient seems like a useful measure of how strongly the beak depth of parents are inherited by their offspring. Compute the Pearson correlation coefficient between parental and offspring beak depths for G. scandens. Do the same for G. fortis. Then, use the function you wrote in the last exercise to compute a 95% confidence interval using pairs bootstrap.\n",
    "\n",
    "Remember, the data are stored in bd_parent_scandens, bd_offspring_scandens, bd_parent_fortis, and bd_offspring_fortis.\n",
    "\n",
    "Compute the 95% confidence interval for both using your bootstrap replicates."
   ]
  },
  {
   "cell_type": "code",
   "execution_count": 13,
   "metadata": {},
   "outputs": [
    {
     "name": "stdout",
     "output_type": "stream",
     "text": [
      "G. scandens: 0.4117063629401258 [0.26705848 0.54982707]\n",
      "G. fortis: 0.7283412395518487 [0.67101859 0.77850494]\n"
     ]
    }
   ],
   "source": [
    "import numpy as np\n",
    "\n",
    "def draw_bs_pairs(x, y, func, size=1):\n",
    "    \"\"\"Perform pairs bootstrap for a single statistic.\"\"\"\n",
    "\n",
    "    # Set up array of indices to sample from: inds\n",
    "    inds = np.arange(len(x))\n",
    "\n",
    "    # Initialize replicates: bs_replicates\n",
    "    bs_replicates = np.empty(size)\n",
    "\n",
    "    # Generate replicates\n",
    "    for i in range(size):\n",
    "        bs_inds = np.random.choice(inds, size=(len(inds)))\n",
    "        bs_x, bs_y = x[bs_inds], y[bs_inds]\n",
    "        bs_replicates[i] = func(bs_x, bs_y)\n",
    "\n",
    "    return bs_replicates\n",
    "\n",
    "def pearson_r(x, y):\n",
    "    \"\"\"Compute Pearson correlation coefficient between two arrays.\"\"\"\n",
    "    # Compute correlation matrix: corr_mat\n",
    "    corr_mat = np.corrcoef(x, y)\n",
    "\n",
    "    # Return entry [0,1]\n",
    "    return corr_mat[0,1]\n",
    "\n",
    "# Compute the Pearson correlation coefficients\n",
    "r_scandens = pearson_r(bd_parent_scandens, bd_offspring_scandens)\n",
    "r_fortis = pearson_r(bd_parent_fortis, bd_offspring_fortis)\n",
    "\n",
    "# Acquire 1000 bootstrap replicates of Pearson r\n",
    "bs_replicates_scandens = draw_bs_pairs(bd_parent_scandens, bd_offspring_scandens, pearson_r, size= 1000)\n",
    "\n",
    "bs_replicates_fortis = draw_bs_pairs(bd_parent_fortis, bd_offspring_fortis, pearson_r, size= 1000)\n",
    "\n",
    "\n",
    "# Compute 95% confidence intervals\n",
    "conf_int_scandens = np.percentile(bs_replicates_scandens, [2.5, 97.5])\n",
    "conf_int_fortis = np.percentile(bs_replicates_fortis, [2.5, 97.5])\n",
    "\n",
    "# Print results\n",
    "print('G. scandens:', r_scandens, conf_int_scandens)\n",
    "print('G. fortis:', r_fortis, conf_int_fortis)\n",
    "\n"
   ]
  },
  {
   "cell_type": "markdown",
   "metadata": {},
   "source": [
    "It is clear from the confidence intervals that beak depth of the offspring of G. fortis parents is more strongly correlated with their offspring than their G. scandens counterparts."
   ]
  },
  {
   "cell_type": "markdown",
   "metadata": {},
   "source": []
  },
  {
   "cell_type": "markdown",
   "metadata": {},
   "source": [
    "## Measuring heritability\n",
    "\n",
    "Remember that the Pearson correlation coefficient is the ratio of the covariance to the geometric mean of the variances of the two data sets. This is a measure of the correlation between parents and offspring, but might not be the best estimate of heritability. If we stop and think, it makes more sense to define heritability as the ratio of the covariance between parent and offspring to the variance of the parents alone. In this exercise, you will estimate the heritability and perform a pairs bootstrap calculation to get the 95% confidence interval.\n",
    "\n",
    "This exercise highlights a very important point. Statistical inference (and data analysis in general) is not a plug-n-chug enterprise. You need to think carefully about the questions you are seeking to answer with your data and analyze them appropriately. If you are interested in how heritable traits are, the quantity we defined as the heritability is more apt than the off-the-shelf statistic, the Pearson correlation coefficient.\n",
    "\n",
    "Remember, the data are stored in bd_parent_scandens, bd_offspring_scandens, bd_parent_fortis, and bd_offspring_fortis."
   ]
  },
  {
   "cell_type": "code",
   "execution_count": null,
   "metadata": {},
   "outputs": [],
   "source": [
    "Instructions\n",
    "\n",
    "Write a function heritability(parents, offspring) that computes heritability defined as the ratio of the covariance of the trait in parents and offspring divided by the variance of the trait in the parents. Hint: Remind yourself of the np.cov() function we covered in the prequel to this course.\n",
    "Use this function to compute the heritability for G. scandens and G. fortis.\n",
    "Acquire 1000 bootstrap replicates of the heritability using pairs bootstrap for G. scandens and G. fortis.\n",
    "Compute the 95% confidence interval for both using your bootstrap replicates.\n",
    "Print the results.\n",
    "\n",
    "\n",
    "\n",
    "You have to be careful about how you index covariance_matrix. The covariance of the trait in parents and offspring can be accessed with the index [0,1] while the variance of the trait in the parents can be accessed with the index [0,0].\n",
    "You can compute the heritability by passing in, for each species, first the parent array and then the offspring array as arguments to the heritability() function.\n",
    "Use draw_bs_pairs() with heritability as the func argument to generate 1000 bootstrap replicates of the heritability for each species.\n",
    "Use np.percentile() with the appropriate arguments to compute the 95% confidence intervals. Recall that this means you have to pass in 2.5 and 97.5 in the form of a list as an argument along with the relevant array.\n"
   ]
  },
  {
   "cell_type": "code",
   "execution_count": 19,
   "metadata": {},
   "outputs": [
    {
     "name": "stdout",
     "output_type": "stream",
     "text": [
      "G. scandens: 0.5485340868685982 [0.35138506 0.74639495]\n",
      "G. fortis: 0.7229051911438156 [0.6507141  0.79943924]\n"
     ]
    }
   ],
   "source": [
    "def heritability(parents, offspring):\n",
    "    \"\"\"Compute the heritability from parent and offspring samples.\"\"\"\n",
    "    covariance_matrix = np.cov(parents, offspring)\n",
    "    #print('covariance_matrix[0,1] :', covariance_matrix[0,1])\n",
    "    #print('covariance_matrix[0,0] :', covariance_matrix[0,0])\n",
    "    #print('covariance_matrix[0,1] :', covariance_matrix[0,1])\n",
    "    #print('covariance_matrix[0,0] :', covariance_matrix[0,0])\n",
    "    #print(covariance_matrix)\n",
    "    return covariance_matrix[0,1] / covariance_matrix[0,0]\n",
    "\n",
    "#varince of parents and offspring =index [0,1] \n",
    "#the variance of the trait in the parents(only, in x-axis) = [0,0].\n",
    "# [0,1] ==[1,0] and [0,0] == [1,1]\n",
    "\n",
    "\n",
    "# Compute the heritability\n",
    "heritability_scandens = heritability(bd_parent_scandens, bd_offspring_scandens)\n",
    "heritability_fortis = heritability(bd_parent_fortis, bd_offspring_fortis)\n",
    "\n",
    "# Acquire 1000 bootstrap replicates of heritability\n",
    "replicates_scandens = draw_bs_pairs(\n",
    "        bd_parent_scandens, bd_offspring_scandens, heritability, size=1000)\n",
    "        \n",
    "replicates_fortis = draw_bs_pairs(\n",
    "        bd_parent_fortis, bd_offspring_fortis, heritability, size=1000)\n",
    "\n",
    "\n",
    "# Compute 95% confidence intervals\n",
    "conf_int_scandens = np.percentile(replicates_scandens, [2.5, 97.5])\n",
    "conf_int_fortis = np.percentile(replicates_fortis, [2.5, 97.5])\n",
    "\n",
    "# Print results\n",
    "print('G. scandens:', heritability_scandens, conf_int_scandens)\n",
    "print('G. fortis:', heritability_fortis, conf_int_fortis)\n"
   ]
  },
  {
   "cell_type": "markdown",
   "metadata": {},
   "source": [
    "Here again, we see that G. fortis has stronger heritability than G. scandens. This suggests that the traits of G. fortis may be strongly incorporated into G. scandens by introgressive hybridization"
   ]
  },
  {
   "cell_type": "markdown",
   "metadata": {},
   "source": []
  },
  {
   "cell_type": "markdown",
   "metadata": {},
   "source": [
    "## Is beak depth heritable at all in G. scandens?\n",
    "\n",
    "The heritability of beak depth in G. scandens seems low. It could be that this observed heritability was just achieved by chance and beak depth is actually not really heritable in the species. You will test that hypothesis here. To do this, you will do a pairs permutation test.\n"
   ]
  },
  {
   "cell_type": "code",
   "execution_count": null,
   "metadata": {},
   "outputs": [],
   "source": []
  },
  {
   "cell_type": "code",
   "execution_count": 50,
   "metadata": {},
   "outputs": [
    {
     "name": "stdout",
     "output_type": "stream",
     "text": [
      "p-val = 0.0\n",
      "p = 0.000000\n",
      "0.000000\n",
      "0.0\n"
     ]
    },
    {
     "data": {
      "image/png": "[encoded data removed]",
      "text/plain": [
       "<Figure size 432x288 with 1 Axes>"
      ]
     },
     "metadata": {
      "needs_background": "light"
     },
     "output_type": "display_data"
    }
   ],
   "source": [
    "# Initialize array of replicates: perm_replicates\n",
    "perm_replicates = np.empty(10000)\n",
    "\n",
    "# Draw replicates\n",
    "for i in range(10000):\n",
    "    # Permute parent beak depths\n",
    "    bd_parent_permuted = np.random.permutation(bd_parent_scandens)\n",
    "    perm_replicates[i] = heritability(bd_parent_permuted, bd_offspring_scandens)\n",
    "\n",
    "\n",
    "# Compute p-value: p\n",
    "p = np.sum(perm_replicates >= heritability_scandens) / len(perm_replicates)\n",
    "\n",
    "# Print the p-value\n",
    "print('p-val =', p)\n",
    "\n",
    "print('p =', ('%.6f'%p))\n",
    "print(\"{0:.6f}\".format(p))\n",
    "print(round(p,6))\n",
    "\n",
    "import matplotlib.pyplot as plt\n",
    "\n",
    "plt.hist(perm_replicates, bins= 50, color='blue', alpha=0.5 )\n",
    "plt.plot([heritability_scandens,heritability_scandens], [0,500], color='red', linewidth=2.0)\n",
    "\n",
    "\n",
    "plt.legend(('perm', 'scandens'), loc= 'upper right')\n",
    "plt.margins(0.02, 0.02)\n",
    "#mark number on y-axis\n",
    "plt.yticks(np.arange(0, 600, 50))\n",
    "\n",
    "plt.xlabel('p-value')\n",
    "plt.ylabel('count')\n",
    "#plt.title('perm_replicates')\n",
    "plt.show()\n",
    "\n",
    "\n",
    "#plt.xlabel('p-value')\n",
    "#plt.ylabel('count')\n",
    "#plt.title('heritability_scandens')\n",
    "#plt.show()"
   ]
  },
  {
   "cell_type": "markdown",
   "metadata": {},
   "source": [
    "You get a p-value of zero, which means that none of the 10,000 permutation pairs replicates you drew had a heritability high enough to match that which was observed. This strongly suggests that beak depth is heritable in G. scandens, just not as much as in G. fortis. If you like, you can plot a histogram of the heritability replicates to get a feel for how extreme of a value of heritability you might expect by chance."
   ]
  }
 ],
 "metadata": {
  "kernelspec": {
   "display_name": "Python 3",
   "language": "python",
   "name": "python3"
  },
  "language_info": {
   "codemirror_mode": {
    "name": "ipython",
    "version": 3
   },
   "file_extension": ".py",
   "mimetype": "text/x-python",
   "name": "python",
   "nbconvert_exporter": "python",
   "pygments_lexer": "ipython3",
   "version": "3.7.4"
  }
 },
 "nbformat": 4,
 "nbformat_minor": 2
}
